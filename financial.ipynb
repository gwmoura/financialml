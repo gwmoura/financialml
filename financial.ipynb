{
 "cells": [
  {
   "cell_type": "code",
   "execution_count": 6,
   "metadata": {},
   "outputs": [
    {
     "data": {
      "text/plain": [
       "month\n",
       "2018-01   -10707.49\n",
       "2018-02    -9973.59\n",
       "2018-03    -9529.09\n",
       "2018-04    -8631.12\n",
       "2018-05    -9117.17\n",
       "2018-06    -8210.07\n",
       "2018-07   -17204.01\n",
       "2018-08   -21225.09\n",
       "2018-09   -24187.47\n",
       "2018-10   -24935.70\n",
       "2018-11    -9113.89\n",
       "2018-12   -10401.47\n",
       "2019-01   -10562.34\n",
       "2019-02   -10233.71\n",
       "2019-03   -21886.81\n",
       "2019-04    -9929.10\n",
       "2019-05   -11368.12\n",
       "2019-06   -17268.51\n",
       "2019-07   -20698.09\n",
       "2019-08   -13515.45\n",
       "2019-09   -18888.37\n",
       "2019-10    -8449.84\n",
       "Name: amount, dtype: float64"
      ]
     },
     "execution_count": 6,
     "metadata": {},
     "output_type": "execute_result"
    }
   ],
   "source": [
    "import pandas as pd\n",
    "import matplotlib.pyplot as plt\n",
    "\n",
    "\n",
    "extrato = pd.read_csv('datasets/extratos.csv', header=1, names=['memo','amount','day','month','year','label'])\n",
    "extrato['amount'] = pd.to_numeric(extrato[\"amount\"], errors='coerce')\n",
    "extrato.groupby(['month'])['amount'].sum()"
   ]
  },
  {
   "cell_type": "code",
   "execution_count": 7,
   "metadata": {},
   "outputs": [
    {
     "data": {
      "text/plain": [
       "month\n",
       "2018-01    -5111.98\n",
       "2018-02    -2654.41\n",
       "2018-03    -3106.16\n",
       "2018-04    -3452.18\n",
       "2018-05    -3098.26\n",
       "2018-06    -3019.08\n",
       "2018-07    -8463.20\n",
       "2018-08   -12732.51\n",
       "2018-09   -16784.54\n",
       "2018-10   -16626.34\n",
       "2018-11    -6793.75\n",
       "2018-12   -10401.47\n",
       "2019-01    -9962.18\n",
       "2019-02   -10233.71\n",
       "2019-03   -21486.81\n",
       "2019-04    -3097.05\n",
       "2019-05    -6421.37\n",
       "2019-06    -5669.08\n",
       "2019-07   -10401.60\n",
       "2019-08    -7699.49\n",
       "2019-09    -5276.40\n",
       "2019-10    -2897.10\n",
       "Name: amount, dtype: float64"
      ]
     },
     "execution_count": 7,
     "metadata": {},
     "output_type": "execute_result"
    }
   ],
   "source": [
    "sc = extrato.loc[extrato['label']!='cartao']\n",
    "sc.groupby(['month'])['amount'].sum()"
   ]
  },
  {
   "cell_type": "code",
   "execution_count": 8,
   "metadata": {},
   "outputs": [
    {
     "data": {
      "text/plain": [
       "month    label         \n",
       "2018-01  -                 -149.11\n",
       "         agua               -58.51\n",
       "         almoco           -1520.34\n",
       "         combustivel       -250.00\n",
       "         doacao             -41.96\n",
       "         emprestimo         -50.00\n",
       "         energia           -418.90\n",
       "         escritorio        -108.91\n",
       "         farmacia          -246.44\n",
       "         festa               -2.80\n",
       "         imposto            -52.85\n",
       "         investimento      -900.00\n",
       "         lanche            -201.88\n",
       "         mercado           -603.09\n",
       "         pedagio            -38.18\n",
       "         pessoal            -40.00\n",
       "         presente           -36.24\n",
       "         saude              -53.00\n",
       "         tarifa             -22.94\n",
       "         telefone          -235.83\n",
       "         uncategorized      -51.00\n",
       "         vestuario          -30.00\n",
       "2018-02  agua               -58.56\n",
       "         almoco            -430.12\n",
       "         bem estar          -53.00\n",
       "         combustivel       -200.00\n",
       "         doacao             -41.96\n",
       "         energia           -119.83\n",
       "         escritorio         -43.88\n",
       "         estacionamento     -13.50\n",
       "                            ...   \n",
       "2019-08  mercado            -45.94\n",
       "         metalmilitar     -1700.00\n",
       "         pedagio            -14.73\n",
       "         saude            -1990.40\n",
       "         tarifa            -134.81\n",
       "         uncategorized     -623.62\n",
       "2019-09  almoco              -9.60\n",
       "         casa               -77.00\n",
       "         doacao             -45.50\n",
       "         estacionamento     -42.00\n",
       "         farmacia           -50.80\n",
       "         lanche            -240.49\n",
       "         lazer              -17.40\n",
       "         mercado           -347.79\n",
       "         pedagio            -15.68\n",
       "         saude            -2025.40\n",
       "         tarifa             -31.15\n",
       "         telefone           -61.12\n",
       "         uncategorized    -2312.47\n",
       "2019-10  almoco             -13.49\n",
       "         doacao             -45.50\n",
       "         estacionamento     -88.25\n",
       "         farmacia           -34.55\n",
       "         lanche            -200.14\n",
       "         lazer               -3.00\n",
       "         mercado            -56.06\n",
       "         moradia           -139.97\n",
       "         saude            -1990.40\n",
       "         tarifa             -63.96\n",
       "         uncategorized     -261.78\n",
       "Name: amount, Length: 327, dtype: float64"
      ]
     },
     "execution_count": 8,
     "metadata": {},
     "output_type": "execute_result"
    }
   ],
   "source": [
    "sc = extrato.loc[extrato['label']!='cartao']\n",
    "sc.groupby(['month', 'label'])['amount'].sum()"
   ]
  },
  {
   "cell_type": "code",
   "execution_count": 9,
   "metadata": {},
   "outputs": [
    {
     "data": {
      "text/plain": [
       "month    memo                                                                         \n",
       "2018-01  COMPRA CARTAO MASTERCARD - COMPRA no estabelecimento CAFE BOURBON           S    -7.70\n",
       "         Compra com Cartï¿½o - 05/01 21:52 BEACH STOP                                    -43.60\n",
       "         Compra com Cartï¿½o - 09/01 16:32 SUPERPAO                                      -55.18\n",
       "         Compra com Cartï¿½o - 11/01 17:52 BK SALVADOR SHOP                              -23.90\n",
       "         Compra com Cartï¿½o - 15/01 18:45 TAPIOCAS HOUSE                                -55.00\n",
       "         Compra com Cartï¿½o - 15/01 19:04 MC DONALDS SPR                                -11.50\n",
       "         Compra com Cartï¿½o - 18/01 12:16 MC DONALDS                                     -5.00\n",
       "2018-02  Compra com Cartï¿½o - 15/02 18:24 SUPERPAO                                      -10.11\n",
       "         Compra com Cartï¿½o - 16/02 14:09 CASABLANCA                                    -11.40\n",
       "         Compra com Cartï¿½o - 19/02 19:34 PERINI COMERCIAL 867                          -42.30\n",
       "         Compra com Cartï¿½o - 19/02 20:03 MR. FROZEN                                    -20.29\n",
       "2018-03  Compra com Cartï¿½o - 06/03 09:51 CASABLANCA                                    -22.60\n",
       "         Compra com Cartï¿½o - 06/03 10:06 CASABLANCA                                     -5.50\n",
       "         Compra com Cartï¿½o - 16/03 14:07 CASABLANCA                                    -12.50\n",
       "         Compra com Cartï¿½o - 22/03 12:03 EXPRESSO SERTAO BOM                           -17.42\n",
       "         Compra com Cartï¿½o - 22/03 12:30 EXPRESSO SERTAO BOM                           -17.42\n",
       "         Compra com Cartï¿½o - 22/03 20:21 PIZZARIA DOLCE VITTA                           -6.00\n",
       "2018-04  Compra com Cartï¿½o - 05/04 14:33 PAG*sequilhosbom                               -7.50\n",
       "         Compra com Cartï¿½o - 09/04 09:56 CASABLANCA                                    -23.20\n",
       "         Compra com Cartï¿½o - 12/04 17:45 MC DONALDS  IGC                                -4.00\n",
       "         Compra com Cartï¿½o - 14/04 09:21 MARICOTA CAFE                                  -5.50\n",
       "2018-05  Compra com Cartï¿½o - 05/05 19:25 DAVI O REI DA PIZZA                           -35.00\n",
       "         Compra com Cartï¿½o - 06/05 18:48 PAG*TacasComidaDe                             -55.00\n",
       "         Compra com Cartï¿½o - 06/05 19:24 ACIDOS NATURAIS                               -17.50\n",
       "         Compra com Cartï¿½o - 14/05 13:08 ESTILO GAUCHO                                 -23.00\n",
       "         Compra com Cartï¿½o - 19/05 13:46 PIZZARIA LA NAPOLETA                          -19.55\n",
       "         Compra com Cartï¿½o - 25/05 17:05 ACIDOS NATURAIS                               -17.50\n",
       "         Compra com Cartï¿½o - 25/05 17:11 PORTAL DO HOT IMBUI                            -8.00\n",
       "2018-06  Compra com Cartï¿½o - 04/06 19:51 PAG*PipocaMania                                -8.00\n",
       "         Compra com Cartï¿½o - 09/06 21:32 SUBWAY                                        -36.00\n",
       "                                                                                          ...  \n",
       "2019-08  Compra com Cartão - 30/08 17:06 CASABLANCA                                      -15.50\n",
       "         TRANSFERENCIA A DEBITO - 00019 0030550920 MATHEUS UALTER DA SILVA FREIRE         -3.00\n",
       "2019-09  Compra com Cartão - 01/09 17:58 BOUTIQUE DO PAO DELI                             -5.69\n",
       "         Compra com Cartão - 19/09 16:29 WD VENDING MACHINE                               -2.00\n",
       "         Compra com Cartão - 19/09 16:31 WD VENDING MACHINE                               -4.50\n",
       "         Compra com Cartão - 19/09 18:32 WD VENDING MACHINE                               -4.50\n",
       "         Compra com Cartão - 19/09 18:33 WD VENDING MACHINE                               -4.00\n",
       "         Compra com Cartão - 20/09 19:22 WD VENDING MACHINE                               -4.50\n",
       "         Compra com Cartão - 20/09 19:29 WD VENDING MACHINE                               -3.00\n",
       "         Compra com Cartão - 21/09 18:29 REI DO MATE                                     -50.20\n",
       "         Compra com Cartão - 22/09 11:23 REI DO MATE                                     -31.50\n",
       "         Compra com Cartão - 22/09 19:06 REI DO MATE                                     -43.50\n",
       "         Compra com Cartão - 24/09 12:24 MC DONALDS                                      -29.00\n",
       "         Compra com Cartão - 24/09 13:07 SUBWAY - SANO COM                               -16.50\n",
       "         Compra com Cartão - 25/09 16:11 REI DO MATE                                     -22.10\n",
       "         Compra com Cartão - 27/09 08:24 REI DO MATE                                     -19.50\n",
       "2019-10  COMPRA CARTAO - COMPRA no estabelecimento BK SALVADOR SHOP       S              -28.90\n",
       "         COMPRA CARTAO - COMPRA no estabelecimento COXINHA DO GAGO        S              -31.00\n",
       "         COMPRA CARTAO - COMPRA no estabelecimento DELICIAS DA ROCA       S               -5.00\n",
       "         COMPRA CARTAO - COMPRA no estabelecimento MC DONALDS SSH         S              -24.00\n",
       "         COMPRA CARTAO - COMPRA no estabelecimento PACAI                  S               -9.84\n",
       "         COMPRA CARTAO - COMPRA no estabelecimento PERTUTTI PANETERIA     S               -0.80\n",
       "         COMPRA CARTAO - COMPRA no estabelecimento REI DO MATE            S              -13.30\n",
       "         COMPRA CARTAO - COMPRA no estabelecimento VIVA GULA              S              -33.80\n",
       "         COMPRA CARTAO - COMPRA no estabelecimento WD VENDING MACHINE     S               -8.50\n",
       "         Compra com Cartão - 01/10 19:44 WD VENDING MACHINE                               -4.50\n",
       "         Compra com Cartão - 01/10 19:45 WD VENDING MACHINE                               -3.00\n",
       "         Compra com Cartão - 04/10 21:15 WD VENDING MACHINE                               -4.50\n",
       "         Compra com Cartão - 06/10 15:01 SUBWAY - SANO COM                               -22.50\n",
       "         INTERPAG DEB - 00019 0010558322 MATEUS MASCARENHAS NEVES                        -10.50\n",
       "Name: amount, Length: 147, dtype: float64"
      ]
     },
     "execution_count": 9,
     "metadata": {},
     "output_type": "execute_result"
    }
   ],
   "source": [
    "lanches = extrato.loc[extrato['label']=='lanche']\n",
    "lanches.groupby(['month','memo'])['amount'].sum()"
   ]
  },
  {
   "cell_type": "code",
   "execution_count": 10,
   "metadata": {},
   "outputs": [
    {
     "data": {
      "text/plain": [
       "month    label \n",
       "2018-01  lanche    -201.88\n",
       "2018-02  lanche     -84.10\n",
       "2018-03  lanche     -81.44\n",
       "2018-04  lanche     -40.20\n",
       "2018-05  lanche    -175.55\n",
       "2018-06  lanche    -524.62\n",
       "2018-07  lanche    -166.89\n",
       "2018-08  lanche    -214.46\n",
       "2018-09  lanche   -2260.70\n",
       "2018-10  lanche     -26.00\n",
       "2018-11  lanche    -200.90\n",
       "2019-01  lanche      -4.00\n",
       "2019-02  lanche    -131.00\n",
       "2019-04  lanche     -40.50\n",
       "2019-05  lanche     -55.50\n",
       "2019-06  lanche    -221.60\n",
       "2019-07  lanche    -135.95\n",
       "2019-08  lanche    -162.10\n",
       "2019-09  lanche    -240.49\n",
       "2019-10  lanche    -200.14\n",
       "Name: amount, dtype: float64"
      ]
     },
     "execution_count": 10,
     "metadata": {},
     "output_type": "execute_result"
    }
   ],
   "source": [
    "lanches = extrato.loc[extrato['label']=='lanche']\n",
    "lanches.groupby(['month','label'])['amount'].sum()"
   ]
  },
  {
   "cell_type": "code",
   "execution_count": null,
   "metadata": {},
   "outputs": [],
   "source": [
    "                                                                                                                                                "
   ]
  }
 ],
 "metadata": {
  "file_extension": ".py",
  "kernelspec": {
   "display_name": "Python 3",
   "language": "python",
   "name": "python3"
  },
  "language_info": {
   "codemirror_mode": {
    "name": "ipython",
    "version": 3
   },
   "file_extension": ".py",
   "mimetype": "text/x-python",
   "name": "python",
   "nbconvert_exporter": "python",
   "pygments_lexer": "ipython3",
   "version": "3.6.5"
  },
  "mimetype": "text/x-python",
  "name": "python",
  "npconvert_exporter": "python",
  "pygments_lexer": "ipython3",
  "version": 3
 },
 "nbformat": 4,
 "nbformat_minor": 2
}
